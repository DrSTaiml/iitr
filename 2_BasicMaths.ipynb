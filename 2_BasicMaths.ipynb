{
 "cells": [
  {
   "cell_type": "markdown",
   "metadata": {},
   "source": [
    "# Convert 3 digit base 7 number to base 10"
   ]
  },
  {
   "cell_type": "code",
   "execution_count": 14,
   "metadata": {},
   "outputs": [],
   "source": [
    "x=154"
   ]
  },
  {
   "cell_type": "code",
   "execution_count": 15,
   "metadata": {},
   "outputs": [],
   "source": [
    "result=0"
   ]
  },
  {
   "cell_type": "code",
   "execution_count": 16,
   "metadata": {},
   "outputs": [
    {
     "name": "stdout",
     "output_type": "stream",
     "text": [
      "4\n"
     ]
    }
   ],
   "source": [
    "d0=x%10\n",
    "print(d0)"
   ]
  },
  {
   "cell_type": "code",
   "execution_count": 17,
   "metadata": {},
   "outputs": [
    {
     "data": {
      "text/plain": [
       "15"
      ]
     },
     "execution_count": 17,
     "metadata": {},
     "output_type": "execute_result"
    }
   ],
   "source": [
    "x=x//10\n",
    "x"
   ]
  },
  {
   "cell_type": "code",
   "execution_count": 18,
   "metadata": {},
   "outputs": [
    {
     "name": "stdout",
     "output_type": "stream",
     "text": [
      "5\n"
     ]
    }
   ],
   "source": [
    "d1=x%10\n",
    "print(d1)"
   ]
  },
  {
   "cell_type": "code",
   "execution_count": 19,
   "metadata": {},
   "outputs": [
    {
     "data": {
      "text/plain": [
       "1"
      ]
     },
     "execution_count": 19,
     "metadata": {},
     "output_type": "execute_result"
    }
   ],
   "source": [
    "x=x//10\n",
    "x"
   ]
  },
  {
   "cell_type": "code",
   "execution_count": 20,
   "metadata": {},
   "outputs": [
    {
     "name": "stdout",
     "output_type": "stream",
     "text": [
      "1\n"
     ]
    }
   ],
   "source": [
    "d2=x%10\n",
    "print(d2)"
   ]
  },
  {
   "cell_type": "code",
   "execution_count": 21,
   "metadata": {},
   "outputs": [
    {
     "data": {
      "text/plain": [
       "(4, 5, 1)"
      ]
     },
     "execution_count": 21,
     "metadata": {},
     "output_type": "execute_result"
    }
   ],
   "source": [
    "d0,d1,d2"
   ]
  },
  {
   "cell_type": "code",
   "execution_count": 22,
   "metadata": {},
   "outputs": [
    {
     "data": {
      "text/plain": [
       "88"
      ]
     },
     "execution_count": 22,
     "metadata": {},
     "output_type": "execute_result"
    }
   ],
   "source": [
    "d0+7*d1+7*7*d2"
   ]
  },
  {
   "cell_type": "markdown",
   "metadata": {},
   "source": [
    "# Convert from base 8, four digit number to base 10"
   ]
  },
  {
   "cell_type": "code",
   "execution_count": 63,
   "metadata": {},
   "outputs": [],
   "source": [
    "x=2756\n",
    "multiplier=1\n",
    "result=0\n",
    "mybase=8"
   ]
  },
  {
   "cell_type": "markdown",
   "metadata": {},
   "source": [
    "This is what we are trying to achieve:\n",
    "\n",
    "```\n",
    "1*d0 + 8*d1 + 8*8*d2 + 8*8*8*d3\n",
    "\n",
    "1*6 + 8*5 + 8*8*7 + 8*8*8*2\n",
    "```"
   ]
  },
  {
   "cell_type": "code",
   "execution_count": 64,
   "metadata": {},
   "outputs": [
    {
     "name": "stdout",
     "output_type": "stream",
     "text": [
      "Number=  2756\n",
      "Last figit=  6\n",
      "multiplier=  1\n",
      "Result=  6\n"
     ]
    }
   ],
   "source": [
    "print(\"Number= \",x)\n",
    "d=x%10\n",
    "print(\"Last figit= \",d)\n",
    "print(\"multiplier= \",multiplier)\n",
    "result+=d*multiplier\n",
    "print(\"Result= \",result)"
   ]
  },
  {
   "cell_type": "code",
   "execution_count": 65,
   "metadata": {},
   "outputs": [
    {
     "name": "stdout",
     "output_type": "stream",
     "text": [
      "New number=  275\n",
      "New multiplier=  8\n"
     ]
    }
   ],
   "source": [
    "x=x//10\n",
    "x\n",
    "multiplier*=mybase\n",
    "print(\"New number= \",x)\n",
    "print(\"New multiplier= \",multiplier)"
   ]
  },
  {
   "cell_type": "code",
   "execution_count": 66,
   "metadata": {},
   "outputs": [
    {
     "name": "stdout",
     "output_type": "stream",
     "text": [
      "Number=  275\n",
      "Last figit=  5\n",
      "multiplier=  8\n",
      "Result=  46\n"
     ]
    }
   ],
   "source": [
    "print(\"Number= \",x)\n",
    "d=x%10\n",
    "print(\"Last figit= \",d)\n",
    "print(\"multiplier= \",multiplier)\n",
    "result+=d*multiplier\n",
    "print(\"Result= \",result)"
   ]
  },
  {
   "cell_type": "code",
   "execution_count": 67,
   "metadata": {},
   "outputs": [
    {
     "name": "stdout",
     "output_type": "stream",
     "text": [
      "New number=  27\n",
      "New multiplier=  64\n"
     ]
    }
   ],
   "source": [
    "x=x//10\n",
    "x\n",
    "multiplier*=mybase\n",
    "print(\"New number= \",x)\n",
    "print(\"New multiplier= \",multiplier)"
   ]
  },
  {
   "cell_type": "code",
   "execution_count": 68,
   "metadata": {},
   "outputs": [
    {
     "name": "stdout",
     "output_type": "stream",
     "text": [
      "Number=  27\n",
      "Last figit=  7\n",
      "multiplier=  64\n",
      "Result=  494\n"
     ]
    }
   ],
   "source": [
    "print(\"Number= \",x)\n",
    "d=x%10\n",
    "print(\"Last figit= \",d)\n",
    "print(\"multiplier= \",multiplier)\n",
    "result+=d*multiplier\n",
    "print(\"Result= \",result)"
   ]
  },
  {
   "cell_type": "code",
   "execution_count": 69,
   "metadata": {},
   "outputs": [
    {
     "name": "stdout",
     "output_type": "stream",
     "text": [
      "New number=  2\n",
      "New multiplier=  512\n"
     ]
    }
   ],
   "source": [
    "x=x//10\n",
    "x\n",
    "multiplier*=mybase\n",
    "print(\"New number= \",x)\n",
    "print(\"New multiplier= \",multiplier)"
   ]
  },
  {
   "cell_type": "code",
   "execution_count": 70,
   "metadata": {},
   "outputs": [
    {
     "name": "stdout",
     "output_type": "stream",
     "text": [
      "Number=  2\n",
      "Last figit=  2\n",
      "multiplier=  512\n",
      "Result=  1518\n"
     ]
    }
   ],
   "source": [
    "print(\"Number= \",x)\n",
    "d=x%10\n",
    "print(\"Last figit= \",d)\n",
    "print(\"multiplier= \",multiplier)\n",
    "result+=d*multiplier\n",
    "print(\"Result= \",result)"
   ]
  },
  {
   "cell_type": "code",
   "execution_count": 71,
   "metadata": {},
   "outputs": [
    {
     "name": "stdout",
     "output_type": "stream",
     "text": [
      "New number=  0\n",
      "New multiplier=  4096\n"
     ]
    }
   ],
   "source": [
    "x=x//10\n",
    "x\n",
    "multiplier*=mybase\n",
    "print(\"New number= \",x)\n",
    "print(\"New multiplier= \",multiplier)"
   ]
  },
  {
   "cell_type": "code",
   "execution_count": 72,
   "metadata": {},
   "outputs": [
    {
     "name": "stdout",
     "output_type": "stream",
     "text": [
      "Result=  1518\n"
     ]
    }
   ],
   "source": [
    "print(\"Result= \",result)"
   ]
  },
  {
   "cell_type": "markdown",
   "metadata": {},
   "source": [
    "# Functions"
   ]
  },
  {
   "cell_type": "code",
   "execution_count": 75,
   "metadata": {},
   "outputs": [],
   "source": [
    "\n",
    "x = 2756\n",
    "multiplier = 1\n",
    "result = 0\n",
    "mybase = 8\n"
   ]
  },
  {
   "cell_type": "code",
   "execution_count": 76,
   "metadata": {},
   "outputs": [],
   "source": [
    "def extract_last_digit():\n",
    "    global x\n",
    "    global result\n",
    "    global multiplier\n",
    "    print(\"==\"*10)\n",
    "    print(\"Number: \", x)\n",
    "    d = x % 10\n",
    "    print(\"Last Digit: \", d)\n",
    "    print(\"Multiplier: \", multiplier)\n",
    "    result = result + d*multiplier\n",
    "    print(\"Result: \", result)\n",
    "    x = x // 10\n",
    "    multiplier = multiplier * mybase\n",
    "    print(\"New Number: \", x)\n",
    "    print(\"New Multiplier:\", multiplier)\n"
   ]
  },
  {
   "cell_type": "code",
   "execution_count": 77,
   "metadata": {},
   "outputs": [
    {
     "name": "stdout",
     "output_type": "stream",
     "text": [
      "====================\n",
      "Number:  2756\n",
      "Last Digit:  6\n",
      "Multiplier:  1\n",
      "Result:  6\n",
      "New Number:  275\n",
      "New Multiplier: 8\n"
     ]
    }
   ],
   "source": [
    "extract_last_digit()"
   ]
  },
  {
   "cell_type": "code",
   "execution_count": 78,
   "metadata": {},
   "outputs": [
    {
     "name": "stdout",
     "output_type": "stream",
     "text": [
      "====================\n",
      "Number:  275\n",
      "Last Digit:  5\n",
      "Multiplier:  8\n",
      "Result:  46\n",
      "New Number:  27\n",
      "New Multiplier: 64\n"
     ]
    }
   ],
   "source": [
    "extract_last_digit()"
   ]
  },
  {
   "cell_type": "code",
   "execution_count": 79,
   "metadata": {},
   "outputs": [
    {
     "name": "stdout",
     "output_type": "stream",
     "text": [
      "====================\n",
      "Number:  27\n",
      "Last Digit:  7\n",
      "Multiplier:  64\n",
      "Result:  494\n",
      "New Number:  2\n",
      "New Multiplier: 512\n"
     ]
    }
   ],
   "source": [
    "extract_last_digit()"
   ]
  },
  {
   "cell_type": "code",
   "execution_count": 80,
   "metadata": {},
   "outputs": [
    {
     "name": "stdout",
     "output_type": "stream",
     "text": [
      "====================\n",
      "Number:  2\n",
      "Last Digit:  2\n",
      "Multiplier:  512\n",
      "Result:  1518\n",
      "New Number:  0\n",
      "New Multiplier: 4096\n"
     ]
    }
   ],
   "source": [
    "extract_last_digit()"
   ]
  },
  {
   "cell_type": "markdown",
   "metadata": {},
   "source": [
    "Q: What should I do to automate this execution A1: Looping with condition A2: Recusion"
   ]
  },
  {
   "cell_type": "markdown",
   "metadata": {},
   "source": [
    "# Local vs Global Variable"
   ]
  },
  {
   "cell_type": "code",
   "execution_count": 81,
   "metadata": {},
   "outputs": [
    {
     "data": {
      "text/plain": [
       "10"
      ]
     },
     "execution_count": 81,
     "metadata": {},
     "output_type": "execute_result"
    }
   ],
   "source": [
    "my_value = 10\n",
    "\n",
    "def print_my_value():\n",
    "    my_value = 20\n",
    "    print(my_value)\n",
    "my_value"
   ]
  },
  {
   "cell_type": "code",
   "execution_count": 82,
   "metadata": {},
   "outputs": [
    {
     "name": "stdout",
     "output_type": "stream",
     "text": [
      "20\n"
     ]
    }
   ],
   "source": [
    "print_my_value()"
   ]
  },
  {
   "cell_type": "code",
   "execution_count": 83,
   "metadata": {},
   "outputs": [
    {
     "data": {
      "text/plain": [
       "10"
      ]
     },
     "execution_count": 83,
     "metadata": {},
     "output_type": "execute_result"
    }
   ],
   "source": [
    "my_value"
   ]
  },
  {
   "cell_type": "code",
   "execution_count": 84,
   "metadata": {},
   "outputs": [],
   "source": [
    "my_value = 10"
   ]
  },
  {
   "cell_type": "code",
   "execution_count": 85,
   "metadata": {},
   "outputs": [],
   "source": [
    "def print_my_value():\n",
    "    global my_value\n",
    "    my_value = 20\n",
    "    print(my_value)"
   ]
  },
  {
   "cell_type": "code",
   "execution_count": 86,
   "metadata": {},
   "outputs": [
    {
     "data": {
      "text/plain": [
       "10"
      ]
     },
     "execution_count": 86,
     "metadata": {},
     "output_type": "execute_result"
    }
   ],
   "source": [
    "my_value"
   ]
  },
  {
   "cell_type": "code",
   "execution_count": 87,
   "metadata": {},
   "outputs": [
    {
     "name": "stdout",
     "output_type": "stream",
     "text": [
      "20\n"
     ]
    }
   ],
   "source": [
    "print_my_value()"
   ]
  },
  {
   "cell_type": "code",
   "execution_count": 88,
   "metadata": {},
   "outputs": [
    {
     "data": {
      "text/plain": [
       "20"
      ]
     },
     "execution_count": 88,
     "metadata": {},
     "output_type": "execute_result"
    }
   ],
   "source": [
    "my_value"
   ]
  },
  {
   "cell_type": "markdown",
   "metadata": {},
   "source": [
    "# Recursion"
   ]
  },
  {
   "cell_type": "code",
   "execution_count": 89,
   "metadata": {},
   "outputs": [],
   "source": [
    "x = 2756\n",
    "multiplier = 1\n",
    "result = 0\n",
    "mybase = 8"
   ]
  },
  {
   "cell_type": "code",
   "execution_count": 90,
   "metadata": {},
   "outputs": [],
   "source": [
    "# def extract_last_digit():\n",
    "#     global x\n",
    "#     global result\n",
    "#     global multiplier\n",
    "#     print(\"Number: \", x)\n",
    "#     if x == 0:\n",
    "#         print(\"The number is zero. Stop!\")\n",
    "#         print(\"Final Result: \", result)\n",
    "#     else:\n",
    "#         d = x % 10\n",
    "#         print(\"Last Digit: \", d)\n",
    "#         print(\"Multiplier: \", multiplier)\n",
    "#         result = result + d*multiplier\n",
    "#         print(\"Result: \", result)\n",
    "#         x = x // 10\n",
    "#         multiplier = multiplier * mybase\n",
    "#         print(\"New Number: \", x)\n",
    "#         print(\"New Multiplier:\", multiplier)\n",
    "#         extract_last_digit()"
   ]
  },
  {
   "cell_type": "code",
   "execution_count": 91,
   "metadata": {},
   "outputs": [],
   "source": [
    "def extract_last_digit_recur():\n",
    "    global x\n",
    "    global result\n",
    "    global multiplier\n",
    "    print(\"-\"*10)\n",
    "    print(\"Number: \", x)\n",
    "    \n",
    "    d = x % 10\n",
    "    print(\"Last Digit: \", d)\n",
    "    print(\"Multiplier: \", multiplier)\n",
    "    result = result + d*multiplier\n",
    "    print(\"Result: \", result)\n",
    "    x = x // 10\n",
    "    multiplier = multiplier * mybase\n",
    "    print(\"New Number: \", x)\n",
    "    print(\"New Multiplier:\", multiplier)\n",
    "    \n",
    "    if x == 0:\n",
    "        print(\"The number is zero. Stop!\")\n",
    "    elif x < 0:\n",
    "        print(\"Impossible!\")\n",
    "    else:\n",
    "        extract_last_digit_recur()"
   ]
  },
  {
   "cell_type": "code",
   "execution_count": 92,
   "metadata": {},
   "outputs": [
    {
     "name": "stdout",
     "output_type": "stream",
     "text": [
      "----------\n",
      "Number:  2756\n",
      "Last Digit:  6\n",
      "Multiplier:  1\n",
      "Result:  6\n",
      "New Number:  275\n",
      "New Multiplier: 8\n",
      "----------\n",
      "Number:  275\n",
      "Last Digit:  5\n",
      "Multiplier:  8\n",
      "Result:  46\n",
      "New Number:  27\n",
      "New Multiplier: 64\n",
      "----------\n",
      "Number:  27\n",
      "Last Digit:  7\n",
      "Multiplier:  64\n",
      "Result:  494\n",
      "New Number:  2\n",
      "New Multiplier: 512\n",
      "----------\n",
      "Number:  2\n",
      "Last Digit:  2\n",
      "Multiplier:  512\n",
      "Result:  1518\n",
      "New Number:  0\n",
      "New Multiplier: 4096\n",
      "The number is zero. Stop!\n"
     ]
    }
   ],
   "source": [
    "extract_last_digit_recur()"
   ]
  },
  {
   "cell_type": "markdown",
   "metadata": {},
   "source": [
    "# TODO: Tower of Hanoi - research"
   ]
  },
  {
   "cell_type": "code",
   "execution_count": 93,
   "metadata": {},
   "outputs": [
    {
     "data": {
      "text/plain": [
       "(True, False, False)"
      ]
     },
     "execution_count": 93,
     "metadata": {},
     "output_type": "execute_result"
    }
   ],
   "source": [
    "x = 10\n",
    "x > 0, x< 0, x == 0"
   ]
  },
  {
   "cell_type": "code",
   "execution_count": 94,
   "metadata": {},
   "outputs": [
    {
     "data": {
      "text/plain": [
       "True"
      ]
     },
     "execution_count": 94,
     "metadata": {},
     "output_type": "execute_result"
    }
   ],
   "source": [
    "x = 6\n",
    "x < -5 or x > 5"
   ]
  },
  {
   "cell_type": "code",
   "execution_count": 95,
   "metadata": {},
   "outputs": [
    {
     "data": {
      "text/plain": [
       "True"
      ]
     },
     "execution_count": 95,
     "metadata": {},
     "output_type": "execute_result"
    }
   ],
   "source": [
    "x = 10\n",
    "x % 2 == 0 and x % 5 == 0"
   ]
  },
  {
   "cell_type": "code",
   "execution_count": 96,
   "metadata": {},
   "outputs": [
    {
     "data": {
      "text/plain": [
       "True"
      ]
     },
     "execution_count": 96,
     "metadata": {},
     "output_type": "execute_result"
    }
   ],
   "source": [
    "x = 1\n",
    "x != 0"
   ]
  },
  {
   "cell_type": "markdown",
   "metadata": {},
   "source": [
    "# Create a condition on x1, x2 and x where print True if x is on the line joining x1 and x2"
   ]
  },
  {
   "cell_type": "code",
   "execution_count": 97,
   "metadata": {},
   "outputs": [
    {
     "name": "stdout",
     "output_type": "stream",
     "text": [
      "False\n"
     ]
    }
   ],
   "source": [
    "x1 = -3\n",
    "x2 = -4\n",
    "x = -3.5\n",
    "if x >= x1 and x <= x2:\n",
    "    print(\"True\")\n",
    "else:\n",
    "    print(\"False\")"
   ]
  },
  {
   "cell_type": "code",
   "execution_count": 98,
   "metadata": {},
   "outputs": [
    {
     "name": "stdout",
     "output_type": "stream",
     "text": [
      "True\n"
     ]
    }
   ],
   "source": [
    "x1 = -3\n",
    "x2 = 4\n",
    "x = 0\n",
    "if (x >= x1 and x <= x2) or (x >= x2 and x <= x1):\n",
    "    print(\"True\")\n",
    "else:\n",
    "    print(\"False\")"
   ]
  },
  {
   "cell_type": "code",
   "execution_count": 99,
   "metadata": {},
   "outputs": [],
   "source": [
    "## Function with parameters\n",
    "\n",
    "def is_online(x1, x2, x):\n",
    "    if (x >= x1 and x <= x2) or (x >= x2 and x <= x1):\n",
    "        print(\"True\")\n",
    "    else:\n",
    "        print(\"False\")"
   ]
  },
  {
   "cell_type": "code",
   "execution_count": 100,
   "metadata": {},
   "outputs": [
    {
     "name": "stdout",
     "output_type": "stream",
     "text": [
      "False\n"
     ]
    }
   ],
   "source": [
    "is_online(1, 2, 0)"
   ]
  },
  {
   "cell_type": "code",
   "execution_count": 101,
   "metadata": {},
   "outputs": [
    {
     "name": "stdout",
     "output_type": "stream",
     "text": [
      "True\n"
     ]
    }
   ],
   "source": [
    "is_online(-1, 2, 0)"
   ]
  },
  {
   "cell_type": "code",
   "execution_count": 102,
   "metadata": {},
   "outputs": [
    {
     "name": "stdout",
     "output_type": "stream",
     "text": [
      "False\n"
     ]
    }
   ],
   "source": [
    "is_online(-1, -2, 0)"
   ]
  },
  {
   "cell_type": "code",
   "execution_count": 103,
   "metadata": {},
   "outputs": [
    {
     "name": "stdout",
     "output_type": "stream",
     "text": [
      "True\n"
     ]
    }
   ],
   "source": [
    "is_online(2, -1, 0)"
   ]
  },
  {
   "cell_type": "code",
   "execution_count": 104,
   "metadata": {},
   "outputs": [
    {
     "name": "stdout",
     "output_type": "stream",
     "text": [
      "1\n",
      "2\n"
     ]
    }
   ],
   "source": [
    "x1, x2 = 1, 2\n",
    "print(x1)\n",
    "print(x2)"
   ]
  },
  {
   "cell_type": "code",
   "execution_count": 105,
   "metadata": {},
   "outputs": [],
   "source": [
    "def is_online(x1, x2, x):\n",
    "    if (x >= x1 and x <= x2) or (x >= x2 and x <= x1):\n",
    "        return True\n",
    "    else:\n",
    "        return False"
   ]
  },
  {
   "cell_type": "code",
   "execution_count": 106,
   "metadata": {},
   "outputs": [
    {
     "name": "stdout",
     "output_type": "stream",
     "text": [
      "Yay!\n"
     ]
    }
   ],
   "source": [
    "if is_online(1, 2, 1.5):\n",
    "    print(\"Yay!\")"
   ]
  },
  {
   "cell_type": "markdown",
   "metadata": {},
   "source": [
    "# Q: Two lines x1 --> x2 and x3 --> x4, print True, if overlapping or touching otherwise print False"
   ]
  },
  {
   "cell_type": "code",
   "execution_count": 107,
   "metadata": {},
   "outputs": [],
   "source": [
    "def are_overlapping(x1, x2, x3, x4):\n",
    "    # Write your logic\n",
    "    return True or False"
   ]
  },
  {
   "cell_type": "markdown",
   "metadata": {},
   "source": [
    "Test Cases:\n",
    "\n",
    "x1, x2 = 1, 2\n",
    "x3, x4 = 2, 5\n",
    "\n",
    "Ans: True\n",
    "\n",
    "x1, x2 = 2, 1\n",
    "x3, x4 = 2, -5\n",
    "Ans: True"
   ]
  },
  {
   "cell_type": "markdown",
   "metadata": {},
   "source": [
    "# While Loop"
   ]
  },
  {
   "cell_type": "code",
   "execution_count": 108,
   "metadata": {},
   "outputs": [],
   "source": [
    "x = 2756\n",
    "multiplier = 1\n",
    "result = 0\n",
    "mybase = 8"
   ]
  },
  {
   "cell_type": "code",
   "execution_count": 109,
   "metadata": {},
   "outputs": [
    {
     "name": "stdout",
     "output_type": "stream",
     "text": [
      "x in the loop:  2756\n",
      "====================\n",
      "Number:  2756\n",
      "Last Digit:  6\n",
      "Multiplier:  1\n",
      "Result:  6\n",
      "New Number:  275\n",
      "New Multiplier: 8\n",
      "x in the loop:  275\n",
      "====================\n",
      "Number:  275\n",
      "Last Digit:  5\n",
      "Multiplier:  8\n",
      "Result:  46\n",
      "New Number:  27\n",
      "New Multiplier: 64\n",
      "x in the loop:  27\n",
      "====================\n",
      "Number:  27\n",
      "Last Digit:  7\n",
      "Multiplier:  64\n",
      "Result:  494\n",
      "New Number:  2\n",
      "New Multiplier: 512\n",
      "x in the loop:  2\n",
      "====================\n",
      "Number:  2\n",
      "Last Digit:  2\n",
      "Multiplier:  512\n",
      "Result:  1518\n",
      "New Number:  0\n",
      "New Multiplier: 4096\n"
     ]
    }
   ],
   "source": [
    "while x > 0:\n",
    "    print(\"x in the loop: \", x)\n",
    "    extract_last_digit()"
   ]
  },
  {
   "cell_type": "code",
   "execution_count": null,
   "metadata": {},
   "outputs": [],
   "source": []
  }
 ],
 "metadata": {
  "kernelspec": {
   "display_name": "Python3.10",
   "language": "python",
   "name": "python3.10"
  },
  "language_info": {
   "codemirror_mode": {
    "name": "ipython",
    "version": 3
   },
   "file_extension": ".py",
   "mimetype": "text/x-python",
   "name": "python",
   "nbconvert_exporter": "python",
   "pygments_lexer": "ipython3",
   "version": "3.10.14"
  },
  "toc": {
   "base_numbering": 1,
   "nav_menu": {},
   "number_sections": true,
   "sideBar": true,
   "skip_h1_title": false,
   "title_cell": "Table of Contents",
   "title_sidebar": "Contents",
   "toc_cell": false,
   "toc_position": {},
   "toc_section_display": true,
   "toc_window_display": false
  }
 },
 "nbformat": 4,
 "nbformat_minor": 2
}
