{
 "cells": [
  {
   "cell_type": "code",
   "execution_count": 3,
   "metadata": {},
   "outputs": [],
   "source": [
    "p=100\n",
    "r=10\n",
    "t=5\n",
    "interest=p*r*t/100"
   ]
  },
  {
   "cell_type": "code",
   "execution_count": 4,
   "metadata": {},
   "outputs": [
    {
     "data": {
      "text/plain": [
       "50.0"
      ]
     },
     "execution_count": 4,
     "metadata": {},
     "output_type": "execute_result"
    }
   ],
   "source": [
    "interest"
   ]
  },
  {
   "cell_type": "markdown",
   "metadata": {},
   "source": [
    "# Number System"
   ]
  },
  {
   "cell_type": "markdown",
   "metadata": {},
   "source": [
    "Base 7:\n",
    "    0 1 2 3 4 5 6 \n",
    "    10 11 12 13 14 15 16 "
   ]
  },
  {
   "cell_type": "markdown",
   "metadata": {},
   "source": [
    "Base 15:\n",
    "    0 1 2 3 4 5 6 7 8 9 A B C D E\n",
    "    10 11 12 13 14 15 16 17 18 19 1A 1B 1C 1D 1E"
   ]
  },
  {
   "cell_type": "markdown",
   "metadata": {},
   "source": [
    "Base 14:\n",
    "    0 1 2 3 4 5 6 7 8 9 A B C D\n",
    "    10 11 12 13 14 15 16 17 18 19 1A 1B 1C 1D"
   ]
  },
  {
   "attachments": {},
   "cell_type": "markdown",
   "metadata": {},
   "source": [
    "# Addition\n"
   ]
  },
  {
   "attachments": {},
   "cell_type": "markdown",
   "metadata": {},
   "source": [
    "12₇ + 13₇ = 25₇\n",
    "\n",
    "   12₇\n",
    "+ 13₇\n",
    "------\n",
    "   25₇\n",
    "\n",
    "12₇ + 16₇ = 31₇\n",
    "\n",
    "   12₇\n",
    "+ 16₇\n",
    "------\n",
    "   31₇\n",
    "\n",
    "8 - 7 = 1\n"
   ]
  },
  {
   "cell_type": "markdown",
   "metadata": {},
   "source": [
    "Add Base 7:\n",
    "1)\n",
    "    13+1=14\n",
    "    14+1=15\n",
    "   \n",
    "2)\n",
    "\n",
    "    16+1=20\n",
    "    \n",
    "    1\n",
    "    16\n",
    "    +1\n",
    "    __\n",
    "    20\n",
    "    \n",
    "    6+1=10\n",
    "    \n",
    "3)  \n",
    "    666+1=1000\n",
    "    \n",
    "    666\n",
    "    + 1\n",
    "    ___\n",
    "    1000\n",
    "    6+1=10"
   ]
  },
  {
   "cell_type": "markdown",
   "metadata": {},
   "source": [
    "# Sub"
   ]
  },
  {
   "cell_type": "markdown",
   "metadata": {},
   "source": [
    "13-1=12\n",
    "\n",
    "10-1=6\n",
    "\n",
    "10\n",
    "-1\n",
    "__\n",
    "6\n",
    "\n",
    "7-1=6"
   ]
  },
  {
   "cell_type": "markdown",
   "metadata": {},
   "source": [
    "# Multiply"
   ]
  },
  {
   "attachments": {},
   "cell_type": "markdown",
   "metadata": {},
   "source": [
    "Single-Digit Multiplication Table in Base 7\n",
    "In Base 7, valid digits are 0, 1, 2, 3, 4, 5, and 6. Multiplication follows the same rules as in Base 10, but results are written in Base 7.\n",
    "\n",
    "×\t1\t2\t3\t4\t5\t6\n",
    "1\t1\t2\t3\t4\t5\t6\n",
    "2\t2\t4\t6\t11\t13\t15\n",
    "3\t3\t6\t12\t16\t21\t24\n",
    "4\t4\t11\t16\t22\t26\t33\n",
    "5\t5\t13\t21\t26\t34\t42\n",
    "6\t6\t15\t24\t33\t42\t51\n",
    "\n",
    "\n",
    "×\t10\t11\t12\t13\t14\t15\t16\n",
    "10\t100\t110\t120\t130\t140\t150\t160\n",
    "11\t110\t121\t132\t143\t154\t165\t176\n",
    "12\t120\t132\t144\t156\t200\t212\t224\n",
    "13\t130\t143\t156\t202\t215\t231\t244\n",
    "14\t140\t154\t200\t215\t232\t246\t303\n",
    "15\t150\t165\t212\t231\t246\t303\t321\n",
    "16\t160\t176\t224\t244\t303\t321\t340"
   ]
  },
  {
   "cell_type": "code",
   "execution_count": null,
   "metadata": {},
   "outputs": [],
   "source": []
  },
  {
   "cell_type": "markdown",
   "metadata": {},
   "source": [
    "Q1: Choose your base between 3 and 13\n",
    "\n",
    "Q2: Add/Substraction single digit and multiple numbers in your number system\n",
    "\n",
    "Q3: Prepare a table of single digit multiplications in your number system.\n",
    "\n",
    "Q4: Multiply multiple digits in your number system\n",
    "\n",
    "Q5: Convert 1, 10, 20, 30, 100 from your base to base10.\n",
    "\n",
    "Q6. Write a strategy to convert a number in your base to base 10 in plain english or psedo code or code\n",
    "\n",
    "Q7. Write a strategy to convert a number in base N to base M in plain english or psedo code or code"
   ]
  },
  {
   "cell_type": "code",
   "execution_count": null,
   "metadata": {},
   "outputs": [],
   "source": [
    "Q: In base 10, how many numbers can you represent in 5 digits?\n",
    "_ _ _ _ _\n",
    "0 to 99999\n",
    "A: 10**5\n",
    "\n"
   ]
  },
  {
   "cell_type": "code",
   "execution_count": null,
   "metadata": {},
   "outputs": [],
   "source": [
    "1 -> 00001\n",
    "6 -> 00006"
   ]
  },
  {
   "cell_type": "code",
   "execution_count": null,
   "metadata": {},
   "outputs": [],
   "source": [
    "Q: In base 7, how many numbers can you represent in 5 digits?\n",
    "\n",
    "A: 7**5"
   ]
  },
  {
   "cell_type": "code",
   "execution_count": null,
   "metadata": {},
   "outputs": [],
   "source": [
    "Q: In base B, how many numbers can you represent in d digits?\n",
    "\n",
    "A: B**d\n",
    "    \n",
    "    To represent to but not including 10000 in base10, how many digits do you need?"
   ]
  },
  {
   "cell_type": "code",
   "execution_count": null,
   "metadata": {},
   "outputs": [],
   "source": [
    "Q: To represent number up to 9999 in base10, how many digits do you need?\n",
    "\n",
    "A: Four\n",
    "Note: we are representing total 10000 numbers"
   ]
  },
  {
   "cell_type": "code",
   "execution_count": null,
   "metadata": {},
   "outputs": [],
   "source": [
    "Q: To represent N numbers, how many digits do we need in base 10?\n",
    "\n",
    "A: log10(N)"
   ]
  },
  {
   "cell_type": "code",
   "execution_count": null,
   "metadata": {},
   "outputs": [],
   "source": [
    "Q: Compute log10 of 100\n",
    "A: log10(100) = 2"
   ]
  },
  {
   "cell_type": "code",
   "execution_count": null,
   "metadata": {},
   "outputs": [],
   "source": [
    "Q: Compute log10 of 100\n",
    "A: log10(100) = 2"
   ]
  },
  {
   "cell_type": "code",
   "execution_count": null,
   "metadata": {},
   "outputs": [],
   "source": [
    "math.log10(1000)"
   ]
  },
  {
   "cell_type": "code",
   "execution_count": null,
   "metadata": {},
   "outputs": [],
   "source": [
    "math.log10(50)"
   ]
  },
  {
   "cell_type": "code",
   "execution_count": null,
   "metadata": {},
   "outputs": [],
   "source": [
    "10**1.6999"
   ]
  },
  {
   "cell_type": "code",
   "execution_count": null,
   "metadata": {},
   "outputs": [],
   "source": [
    "10**2.45"
   ]
  },
  {
   "cell_type": "code",
   "execution_count": null,
   "metadata": {},
   "outputs": [],
   "source": [
    "10**2.6"
   ]
  },
  {
   "cell_type": "code",
   "execution_count": null,
   "metadata": {},
   "outputs": [],
   "source": [
    "10**2.52"
   ]
  },
  {
   "cell_type": "code",
   "execution_count": null,
   "metadata": {},
   "outputs": [],
   "source": [
    "10**2.53"
   ]
  },
  {
   "cell_type": "code",
   "execution_count": null,
   "metadata": {},
   "outputs": [],
   "source": [
    "10**2.54"
   ]
  },
  {
   "cell_type": "code",
   "execution_count": null,
   "metadata": {},
   "outputs": [],
   "source": [
    "10**2.539"
   ]
  },
  {
   "cell_type": "code",
   "execution_count": null,
   "metadata": {},
   "outputs": [],
   "source": [
    "Q: Write your own algorithm or strategy to find log10. You can use 10**x.\n",
    "\n",
    "# Q: To represent N numbers, how many digits do we need in base B?\n",
    "\n",
    "# A: logB(N)"
   ]
  }
 ],
 "metadata": {
  "kernelspec": {
   "display_name": "Python 3",
   "language": "python",
   "name": "python3"
  },
  "language_info": {
   "codemirror_mode": {
    "name": "ipython",
    "version": 3
   },
   "file_extension": ".py",
   "mimetype": "text/x-python",
   "name": "python",
   "nbconvert_exporter": "python",
   "pygments_lexer": "ipython3",
   "version": "3.6.8"
  },
  "toc": {
   "base_numbering": 1,
   "nav_menu": {},
   "number_sections": true,
   "sideBar": true,
   "skip_h1_title": false,
   "title_cell": "Table of Contents",
   "title_sidebar": "Contents",
   "toc_cell": false,
   "toc_position": {},
   "toc_section_display": true,
   "toc_window_display": false
  }
 },
 "nbformat": 4,
 "nbformat_minor": 2
}
